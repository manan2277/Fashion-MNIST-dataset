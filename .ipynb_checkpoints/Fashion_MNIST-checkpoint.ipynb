{
 "cells": [
  {
   "cell_type": "code",
   "execution_count": 1,
   "metadata": {
    "colab": {
     "base_uri": "https://localhost:8080/",
     "height": 51
    },
    "colab_type": "code",
    "id": "51xxKsr_mkdb",
    "outputId": "6b777502-c793-4296-ab83-e1c521b79df9"
   },
   "outputs": [
    {
     "name": "stdout",
     "output_type": "stream",
     "text": [
      "2.2.0\n",
      "2.3.0-tf\n"
     ]
    }
   ],
   "source": [
    "import tensorflow as tf\n",
    "from tensorflow import keras\n",
    "from tensorflow.keras import layers\n",
    "print(tf.__version__)\n",
    "print(keras.__version__)"
   ]
  },
  {
   "cell_type": "code",
   "execution_count": 2,
   "metadata": {
    "colab": {
     "base_uri": "https://localhost:8080/",
     "height": 187
    },
    "colab_type": "code",
    "id": "Najo1LJrmkdn",
    "outputId": "c1d971bb-432b-4f0a-c488-2f574ada788c"
   },
   "outputs": [
    {
     "name": "stdout",
     "output_type": "stream",
     "text": [
      "Downloading data from https://storage.googleapis.com/tensorflow/tf-keras-datasets/train-labels-idx1-ubyte.gz\n",
      "32768/29515 [=================================] - 0s 0us/step\n",
      "Downloading data from https://storage.googleapis.com/tensorflow/tf-keras-datasets/train-images-idx3-ubyte.gz\n",
      "26427392/26421880 [==============================] - 0s 0us/step\n",
      "Downloading data from https://storage.googleapis.com/tensorflow/tf-keras-datasets/t10k-labels-idx1-ubyte.gz\n",
      "8192/5148 [===============================================] - 0s 0us/step\n",
      "Downloading data from https://storage.googleapis.com/tensorflow/tf-keras-datasets/t10k-images-idx3-ubyte.gz\n",
      "4423680/4422102 [==============================] - 0s 0us/step\n",
      "(60000, 28, 28) (60000,)\n",
      "(10000, 28, 28) (10000,)\n"
     ]
    }
   ],
   "source": [
    "#Downloading the dataset and loading it.\n",
    "fashion_mnist = keras.datasets.fashion_mnist\n",
    "(X_train_full, y_train_full), (X_test, y_test) = fashion_mnist.load_data()\n",
    "print(X_train_full.shape, y_train_full.shape)\n",
    "print(X_test.shape, y_test.shape)"
   ]
  },
  {
   "cell_type": "code",
   "execution_count": 3,
   "metadata": {
    "colab": {},
    "colab_type": "code",
    "id": "kp4V09bNmkdw"
   },
   "outputs": [],
   "source": [
    "#Creating training and validation datasets and rescaling the pixel values to the range: [0,1]\n",
    "x_val, x_train = X_train_full[:5000]/255., X_train_full[5000:]/255.\n",
    "y_val, y_train = y_train_full[:5000], y_train_full[5000:]\n"
   ]
  },
  {
   "cell_type": "code",
   "execution_count": 4,
   "metadata": {
    "colab": {
     "base_uri": "https://localhost:8080/",
     "height": 282
    },
    "colab_type": "code",
    "id": "x4YVej-Rmkd3",
    "outputId": "9dc05638-0989-458b-9ddd-3ae72e5364e7"
   },
   "outputs": [
    {
     "name": "stdout",
     "output_type": "stream",
     "text": [
      "Ankle boot\n"
     ]
    },
    {
     "data": {
      "image/png": "[encoded data removed]",
      "text/plain": [
       "<Figure size 432x288 with 1 Axes>"
      ]
     },
     "metadata": {
      "needs_background": "light",
      "tags": []
     },
     "output_type": "display_data"
    }
   ],
   "source": [
    "import matplotlib.pyplot as plt\n",
    "%matplotlib inline\n",
    "class_names = [\"T-shirt/top\", \"Trouser\", \"Pullover\", \"Dress\", \"Coat\", \"Sandal\", \"Shirt\", \"Sneaker\", \"Bag\", \"Ankle boot\"]\n",
    "print(class_names[y_train[3]])\n",
    "plt.imshow(x_train[3]*255., cmap='gray')\n",
    "plt.show()"
   ]
  },
  {
   "cell_type": "markdown",
   "metadata": {
    "colab_type": "text",
    "id": "eRCiheNAmkd8"
   },
   "source": [
    "Building a standard ANN using sequential API of keras"
   ]
  },
  {
   "cell_type": "code",
   "execution_count": null,
   "metadata": {
    "colab": {},
    "colab_type": "code",
    "id": "1EAEnD-gmkd9",
    "outputId": "755519f9-587d-40e2-97b5-9c159f00030e"
   },
   "outputs": [
    {
     "name": "stdout",
     "output_type": "stream",
     "text": [
      "Model: \"sequential_1\"\n",
      "_________________________________________________________________\n",
      "Layer (type)                 Output Shape              Param #   \n",
      "=================================================================\n",
      "flatten_1 (Flatten)          (None, 784)               0         \n",
      "_________________________________________________________________\n",
      "dense_3 (Dense)              (None, 300)               235500    \n",
      "_________________________________________________________________\n",
      "dense_4 (Dense)              (None, 100)               30100     \n",
      "_________________________________________________________________\n",
      "dense_5 (Dense)              (None, 10)                1010      \n",
      "=================================================================\n",
      "Total params: 266,610\n",
      "Trainable params: 266,610\n",
      "Non-trainable params: 0\n",
      "_________________________________________________________________\n"
     ]
    }
   ],
   "source": [
    "#Defining the ANN model\n",
    "NN_model = keras.models.Sequential([\n",
    "    keras.layers.Flatten(input_shape=[28,28]),\n",
    "    keras.layers.Dense(300, activation='relu'),\n",
    "    keras.layers.Dense(100, activation='relu'),\n",
    "    keras.layers.Dense(10, activation='softmax')\n",
    "])\n",
    "NN_model.summary()"
   ]
  },
  {
   "cell_type": "code",
   "execution_count": null,
   "metadata": {
    "colab": {},
    "colab_type": "code",
    "id": "5s8sVHDimkeB"
   },
   "outputs": [],
   "source": [
    "#Compiling the model i.e, defining the loss function, the optimizer and some other metrics to be calculated\n",
    "NN_model.compile(loss=\"sparse_categorical_crossentropy\", optimizer=\"sgd\", metrics=[\"accuracy\"])"
   ]
  },
  {
   "cell_type": "code",
   "execution_count": null,
   "metadata": {
    "colab": {},
    "colab_type": "code",
    "id": "UhmA1WsGmkeG",
    "outputId": "838d3451-98aa-41bd-c4ef-9600d48d535e"
   },
   "outputs": [
    {
     "name": "stdout",
     "output_type": "stream",
     "text": [
      "Epoch 1/20\n",
      "1719/1719 [==============================] - 4s 2ms/step - loss: 0.7240 - accuracy: 0.7621 - val_loss: 0.5145 - val_accuracy: 0.8314\n",
      "Epoch 2/20\n",
      "1719/1719 [==============================] - 4s 2ms/step - loss: 0.4902 - accuracy: 0.8299 - val_loss: 0.4461 - val_accuracy: 0.8500\n",
      "Epoch 3/20\n",
      "1719/1719 [==============================] - 4s 2ms/step - loss: 0.4440 - accuracy: 0.8447 - val_loss: 0.4267 - val_accuracy: 0.8588\n",
      "Epoch 4/20\n",
      "1719/1719 [==============================] - 4s 2ms/step - loss: 0.4158 - accuracy: 0.8543 - val_loss: 0.4256 - val_accuracy: 0.8532\n",
      "Epoch 5/20\n",
      "1719/1719 [==============================] - 4s 2ms/step - loss: 0.3942 - accuracy: 0.8626 - val_loss: 0.3960 - val_accuracy: 0.8636\n",
      "Epoch 6/20\n",
      "1719/1719 [==============================] - 4s 3ms/step - loss: 0.3786 - accuracy: 0.8667 - val_loss: 0.3762 - val_accuracy: 0.8642\n",
      "Epoch 7/20\n",
      "1719/1719 [==============================] - 4s 2ms/step - loss: 0.3644 - accuracy: 0.8713 - val_loss: 0.3663 - val_accuracy: 0.8746\n",
      "Epoch 8/20\n",
      "1719/1719 [==============================] - 4s 2ms/step - loss: 0.3546 - accuracy: 0.8739 - val_loss: 0.3536 - val_accuracy: 0.8756\n",
      "Epoch 9/20\n",
      "1719/1719 [==============================] - 4s 2ms/step - loss: 0.3424 - accuracy: 0.8778 - val_loss: 0.3594 - val_accuracy: 0.8754\n",
      "Epoch 10/20\n",
      "1719/1719 [==============================] - 4s 2ms/step - loss: 0.3342 - accuracy: 0.8809 - val_loss: 0.3629 - val_accuracy: 0.8706\n",
      "Epoch 11/20\n",
      "1719/1719 [==============================] - 4s 3ms/step - loss: 0.3246 - accuracy: 0.8831 - val_loss: 0.3340 - val_accuracy: 0.8830\n",
      "Epoch 12/20\n",
      "1719/1719 [==============================] - 4s 2ms/step - loss: 0.3170 - accuracy: 0.8860 - val_loss: 0.3364 - val_accuracy: 0.8800\n",
      "Epoch 13/20\n",
      "1719/1719 [==============================] - 4s 2ms/step - loss: 0.3101 - accuracy: 0.8897 - val_loss: 0.3412 - val_accuracy: 0.8776\n",
      "Epoch 14/20\n",
      "1719/1719 [==============================] - 4s 2ms/step - loss: 0.3029 - accuracy: 0.8907 - val_loss: 0.3242 - val_accuracy: 0.8854\n",
      "Epoch 15/20\n",
      "1719/1719 [==============================] - 4s 2ms/step - loss: 0.2967 - accuracy: 0.8940 - val_loss: 0.3192 - val_accuracy: 0.8858\n",
      "Epoch 16/20\n",
      "1719/1719 [==============================] - 4s 2ms/step - loss: 0.2916 - accuracy: 0.8958 - val_loss: 0.3186 - val_accuracy: 0.8898\n",
      "Epoch 17/20\n",
      "1719/1719 [==============================] - 4s 2ms/step - loss: 0.2838 - accuracy: 0.8981 - val_loss: 0.3222 - val_accuracy: 0.8818\n",
      "Epoch 18/20\n",
      "1719/1719 [==============================] - 4s 2ms/step - loss: 0.2800 - accuracy: 0.8989 - val_loss: 0.3127 - val_accuracy: 0.8878\n",
      "Epoch 19/20\n",
      "1719/1719 [==============================] - 4s 2ms/step - loss: 0.2739 - accuracy: 0.9011 - val_loss: 0.3108 - val_accuracy: 0.8902\n",
      "Epoch 20/20\n",
      "1719/1719 [==============================] - 4s 2ms/step - loss: 0.2704 - accuracy: 0.9024 - val_loss: 0.3042 - val_accuracy: 0.8894\n"
     ]
    }
   ],
   "source": [
    "#Training and evaluation of the model\n",
    "history = NN_model.fit(x_train, y_train, validation_data=(x_val,y_val), epochs=20)"
   ]
  },
  {
   "cell_type": "code",
   "execution_count": 5,
   "metadata": {
    "colab": {
     "base_uri": "https://localhost:8080/",
     "height": 34
    },
    "colab_type": "code",
    "id": "8vt6RN1wmkeK",
    "outputId": "252e7a08-74a5-4062-8db8-d61065277670"
   },
   "outputs": [
    {
     "data": {
      "text/plain": [
       "'pd.DataFrame(history.history).plot(figsize=(8,5))\\nplt.grid(True)\\nplt.gca().set_ylim(0,1)\\nplt.show()'"
      ]
     },
     "execution_count": 5,
     "metadata": {
      "tags": []
     },
     "output_type": "execute_result"
    }
   ],
   "source": [
    "#Plotting the learning curves\n",
    "import pandas as pd\n",
    "import numpy as np\n",
    "\n",
    "pd.DataFrame(history.history).plot(figsize=(8,5))\n",
    "plt.grid(True)\n",
    "plt.gca().set_ylim(0,1)\n",
    "plt.show()"
   ]
  },
  {
   "cell_type": "markdown",
   "metadata": {
    "colab_type": "text",
    "id": "Ec1C31IMmkeO"
   },
   "source": [
    "“ In this particular case, the model looks like it performed better on the validation set than on the training set at the beginning of training. But that’s not the case: indeed, the validation error is computed at the end of each epoch, while the training error is computed using a running mean during each epoch. So the training curve should be shifted by half an epoch to the left. If you do that, you will see that the training and validation curves overlap almost perfectly at the beginning of training.”\n",
    "\n",
    "Excerpt From: Aurélien Géron. “Hands-On Machine Learning with Scikit-Learn, Keras, and TensorFlow”. Apple Books. "
   ]
  },
  {
   "cell_type": "code",
   "execution_count": null,
   "metadata": {
    "colab": {},
    "colab_type": "code",
    "id": "W4kePkh2mkeP",
    "outputId": "a49e542e-61fe-4196-f7c4-16fcfa7aae69"
   },
   "outputs": [
    {
     "name": "stdout",
     "output_type": "stream",
     "text": [
      "313/313 [==============================] - 0s 2ms/step - loss: 69.5382 - accuracy: 0.8317\n"
     ]
    },
    {
     "data": {
      "text/plain": [
       "[69.5381851196289, 0.8317000269889832]"
      ]
     },
     "execution_count": 20,
     "metadata": {
      "tags": []
     },
     "output_type": "execute_result"
    }
   ],
   "source": [
    "#Evaluating the model on the test set\n",
    "NN_model.evaluate(X_test, y_test)"
   ]
  },
  {
   "cell_type": "code",
   "execution_count": null,
   "metadata": {
    "colab": {},
    "colab_type": "code",
    "id": "kZSyaNWimkeS",
    "outputId": "e6a46cec-91db-4a8b-da2a-ca5d296f0cae"
   },
   "outputs": [
    {
     "data": {
      "text/plain": [
       "array([[0., 0., 0., 0., 0., 0., 0., 0., 0., 1.],\n",
       "       [0., 0., 1., 0., 0., 0., 0., 0., 0., 0.],\n",
       "       [0., 1., 0., 0., 0., 0., 0., 0., 0., 0.]], dtype=float32)"
      ]
     },
     "execution_count": 15,
     "metadata": {
      "tags": []
     },
     "output_type": "execute_result"
    }
   ],
   "source": [
    "#Making predictions on new instances, since we don't have more data we will use first three entries of test data\n",
    "x_new = X_test[:3]\n",
    "NN_model.predict(x_new) #This gives a one-hot encoded array for each instance"
   ]
  },
  {
   "cell_type": "code",
   "execution_count": null,
   "metadata": {
    "colab": {},
    "colab_type": "code",
    "id": "vxEaWpZtmkeW",
    "outputId": "584e3adb-317d-42c2-b33d-c37ed538a8a6"
   },
   "outputs": [
    {
     "name": "stdout",
     "output_type": "stream",
     "text": [
      "[9 2 1]\n",
      "['Ankle boot' 'Pullover' 'Trouser' ... 'Bag' 'Trouser' 'Sandal']\n"
     ]
    },
    {
     "data": {
      "image/png": "[encoded data removed]",
      "text/plain": [
       "<Figure size 432x288 with 1 Axes>"
      ]
     },
     "metadata": {
      "needs_background": "light",
      "tags": []
     },
     "output_type": "display_data"
    },
    {
     "data": {
      "image/png": "[encoded data removed]",
      "text/plain": [
       "<Figure size 432x288 with 1 Axes>"
      ]
     },
     "metadata": {
      "needs_background": "light",
      "tags": []
     },
     "output_type": "display_data"
    },
    {
     "data": {
      "image/png": "[encoded data removed]",
      "text/plain": [
       "<Figure size 432x288 with 1 Axes>"
      ]
     },
     "metadata": {
      "needs_background": "light",
      "tags": []
     },
     "output_type": "display_data"
    },
    {
     "name": "stdout",
     "output_type": "stream",
     "text": [
      "['Ankle boot' 'Pullover' 'Trouser' ... 'Bag' 'Trouser' 'Sandal']\n"
     ]
    }
   ],
   "source": [
    "#To get class predictions we can use:\n",
    "ypred_classes = NN_model.predict_classes(X_test)\n",
    "print(ypred_classes[0:3])\n",
    "print(np.array(class_names)[ypred_classes])\n",
    "plt.imshow(X_test[-3])\n",
    "plt.show()\n",
    "plt.imshow(X_test[-2])\n",
    "plt.show()\n",
    "plt.imshow(X_test[-1])\n",
    "plt.show()\n",
    "print(np.array(class_names)[y_test])"
   ]
  },
  {
   "cell_type": "markdown",
   "metadata": {
    "colab_type": "text",
    "id": "U8cfoQVQmkeZ"
   },
   "source": [
    "As we can see our model has classified the clothing items correctly"
   ]
  },
  {
   "cell_type": "code",
   "execution_count": null,
   "metadata": {
    "colab": {},
    "colab_type": "code",
    "id": "53P_LDL3mkea"
   },
   "outputs": [],
   "source": [
    "#Saving the NN_model\n",
    "NN_model.save(\"NN_model.h5\")"
   ]
  },
  {
   "cell_type": "markdown",
   "metadata": {
    "colab_type": "text",
    "id": "P_2wBVAomkef"
   },
   "source": [
    "Now we will build a CNN model"
   ]
  },
  {
   "cell_type": "code",
   "execution_count": 6,
   "metadata": {
    "colab": {
     "base_uri": "https://localhost:8080/",
     "height": 493
    },
    "colab_type": "code",
    "id": "YY4abOKpmkeg",
    "outputId": "17217df8-8662-4533-d586-a950163040c3"
   },
   "outputs": [
    {
     "name": "stdout",
     "output_type": "stream",
     "text": [
      "Model: \"sequential\"\n",
      "_________________________________________________________________\n",
      "Layer (type)                 Output Shape              Param #   \n",
      "=================================================================\n",
      "conv2d (Conv2D)              (None, 28, 28, 64)        640       \n",
      "_________________________________________________________________\n",
      "max_pooling2d (MaxPooling2D) (None, 14, 14, 64)        0         \n",
      "_________________________________________________________________\n",
      "conv2d_1 (Conv2D)            (None, 14, 14, 128)       73856     \n",
      "_________________________________________________________________\n",
      "max_pooling2d_1 (MaxPooling2 (None, 7, 7, 128)         0         \n",
      "_________________________________________________________________\n",
      "flatten (Flatten)            (None, 6272)              0         \n",
      "_________________________________________________________________\n",
      "dense (Dense)                (None, 128)               802944    \n",
      "_________________________________________________________________\n",
      "dropout (Dropout)            (None, 128)               0         \n",
      "_________________________________________________________________\n",
      "dense_1 (Dense)              (None, 64)                8256      \n",
      "_________________________________________________________________\n",
      "dropout_1 (Dropout)          (None, 64)                0         \n",
      "_________________________________________________________________\n",
      "dense_2 (Dense)              (None, 10)                650       \n",
      "=================================================================\n",
      "Total params: 886,346\n",
      "Trainable params: 886,346\n",
      "Non-trainable params: 0\n",
      "_________________________________________________________________\n"
     ]
    }
   ],
   "source": [
    "CNN_model = keras.models.Sequential([\n",
    "    layers.Conv2D(64, 3, activation='relu', padding='same', input_shape=[28,28,1]),\n",
    "    layers.MaxPooling2D(2),\n",
    "    layers.Conv2D(128, 3, activation='relu', padding='same'),\n",
    "    layers.MaxPooling2D(2),\n",
    "    layers.Flatten(),\n",
    "    layers.Dense(128, activation='relu'),\n",
    "    layers.Dropout(0.5),\n",
    "    layers.Dense(64, activation='relu'),\n",
    "    layers.Dropout(0.5),\n",
    "    layers.Dense(10, activation='softmax')\n",
    "])\n",
    "CNN_model.summary()"
   ]
  },
  {
   "cell_type": "code",
   "execution_count": 7,
   "metadata": {
    "colab": {},
    "colab_type": "code",
    "id": "YabNQ-jQmkej"
   },
   "outputs": [],
   "source": [
    "x_train_cnn = x_train.reshape(x_train.shape[0], 28, 28, 1)\n",
    "x_test_cnn = X_test.reshape(X_test.shape[0], 28, 28, 1)\n",
    "x_val_cnn = x_val.reshape(x_val.shape[0], 28, 28, 1)"
   ]
  },
  {
   "cell_type": "code",
   "execution_count": 8,
   "metadata": {
    "colab": {
     "base_uri": "https://localhost:8080/",
     "height": 697
    },
    "colab_type": "code",
    "id": "Qs0B7X0Umkeo",
    "outputId": "c6918355-2054-42da-9a0e-219c729114c1"
   },
   "outputs": [
    {
     "name": "stdout",
     "output_type": "stream",
     "text": [
      "Epoch 1/20\n",
      "1719/1719 [==============================] - 6s 3ms/step - loss: 0.6968 - acc: 0.7527 - val_loss: 0.3419 - val_acc: 0.8824\n",
      "Epoch 2/20\n",
      "1719/1719 [==============================] - 6s 3ms/step - loss: 0.4334 - acc: 0.8511 - val_loss: 0.2820 - val_acc: 0.8960\n",
      "Epoch 3/20\n",
      "1719/1719 [==============================] - 6s 3ms/step - loss: 0.3691 - acc: 0.8737 - val_loss: 0.2748 - val_acc: 0.9044\n",
      "Epoch 4/20\n",
      "1719/1719 [==============================] - 6s 3ms/step - loss: 0.3292 - acc: 0.8875 - val_loss: 0.2377 - val_acc: 0.9144\n",
      "Epoch 5/20\n",
      "1719/1719 [==============================] - 6s 3ms/step - loss: 0.2947 - acc: 0.8994 - val_loss: 0.2312 - val_acc: 0.9160\n",
      "Epoch 6/20\n",
      "1719/1719 [==============================] - 6s 3ms/step - loss: 0.2810 - acc: 0.9035 - val_loss: 0.2274 - val_acc: 0.9184\n",
      "Epoch 7/20\n",
      "1719/1719 [==============================] - 6s 3ms/step - loss: 0.2612 - acc: 0.9104 - val_loss: 0.2237 - val_acc: 0.9218\n",
      "Epoch 8/20\n",
      "1719/1719 [==============================] - 6s 3ms/step - loss: 0.2449 - acc: 0.9151 - val_loss: 0.2338 - val_acc: 0.9206\n",
      "Epoch 9/20\n",
      "1719/1719 [==============================] - 6s 3ms/step - loss: 0.2326 - acc: 0.9197 - val_loss: 0.2326 - val_acc: 0.9170\n",
      "Epoch 10/20\n",
      "1719/1719 [==============================] - 6s 3ms/step - loss: 0.2242 - acc: 0.9220 - val_loss: 0.2236 - val_acc: 0.9200\n",
      "Epoch 11/20\n",
      "1719/1719 [==============================] - 6s 3ms/step - loss: 0.2111 - acc: 0.9253 - val_loss: 0.2197 - val_acc: 0.9224\n",
      "Epoch 12/20\n",
      "1719/1719 [==============================] - 6s 3ms/step - loss: 0.2082 - acc: 0.9279 - val_loss: 0.2186 - val_acc: 0.9270\n",
      "Epoch 13/20\n",
      "1719/1719 [==============================] - 6s 3ms/step - loss: 0.1992 - acc: 0.9308 - val_loss: 0.2365 - val_acc: 0.9216\n",
      "Epoch 14/20\n",
      "1719/1719 [==============================] - 6s 3ms/step - loss: 0.1895 - acc: 0.9345 - val_loss: 0.2381 - val_acc: 0.9274\n",
      "Epoch 15/20\n",
      "1719/1719 [==============================] - 6s 3ms/step - loss: 0.1792 - acc: 0.9368 - val_loss: 0.2457 - val_acc: 0.9210\n",
      "Epoch 16/20\n",
      "1719/1719 [==============================] - 6s 3ms/step - loss: 0.1780 - acc: 0.9387 - val_loss: 0.2356 - val_acc: 0.9264\n",
      "Epoch 17/20\n",
      "1719/1719 [==============================] - 6s 3ms/step - loss: 0.1678 - acc: 0.9398 - val_loss: 0.2712 - val_acc: 0.9132\n",
      "Epoch 18/20\n",
      "1719/1719 [==============================] - 6s 3ms/step - loss: 0.1670 - acc: 0.9425 - val_loss: 0.2628 - val_acc: 0.9272\n",
      "Epoch 19/20\n",
      "1719/1719 [==============================] - 6s 3ms/step - loss: 0.1590 - acc: 0.9457 - val_loss: 0.2448 - val_acc: 0.9266\n",
      "Epoch 20/20\n",
      "1719/1719 [==============================] - 6s 3ms/step - loss: 0.1551 - acc: 0.9454 - val_loss: 0.2556 - val_acc: 0.9278\n"
     ]
    }
   ],
   "source": [
    "optimizer = keras.optimizers.Adam()\n",
    "CNN_model.compile(loss='sparse_categorical_crossentropy', optimizer=optimizer, metrics=['acc'])\n",
    "CNN_model_history = CNN_model.fit(x_train_cnn, y_train, validation_data=(x_val_cnn, y_val), epochs=20)"
   ]
  },
  {
   "cell_type": "code",
   "execution_count": 9,
   "metadata": {
    "colab": {},
    "colab_type": "code",
    "id": "fGZWD_BVmker"
   },
   "outputs": [],
   "source": [
    "CNN_model.save(\"CNN_model.h5\")"
   ]
  },
  {
   "cell_type": "markdown",
   "metadata": {
    "colab": {},
    "colab_type": "code",
    "id": "lmGJD-Eymkev"
   },
   "source": [
    "We can see that our validation accuracy improved by almost 3% and this model fits the data much better than our standard ANN.\n",
    "\n",
    "Further plan of action can be that we try a model which fits much better to the data, this is likely to improve the validation accuracy as well. However, if there is a case of severe overfitting and we do not get the expected results; we can use some regularization in our model."
   ]
  },
  {
   "cell_type": "markdown",
   "metadata": {},
   "source": [
    "We will not go into this dataset further and will move on to some datasets which are more complex than this one."
   ]
  }
 ],
 "metadata": {
  "accelerator": "GPU",
  "colab": {
   "collapsed_sections": [],
   "name": "Fashion_MNIST.ipynb",
   "provenance": []
  },
  "kernelspec": {
   "display_name": "Python 3",
   "language": "python",
   "name": "python3"
  },
  "language_info": {
   "codemirror_mode": {
    "name": "ipython",
    "version": 3
   },
   "file_extension": ".py",
   "mimetype": "text/x-python",
   "name": "python",
   "nbconvert_exporter": "python",
   "pygments_lexer": "ipython3",
   "version": "3.7.7"
  }
 },
 "nbformat": 4,
 "nbformat_minor": 4
}
